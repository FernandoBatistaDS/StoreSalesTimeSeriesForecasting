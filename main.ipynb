{
 "cells": [
  {
   "cell_type": "markdown",
   "metadata": {},
   "source": [
    "# 0.0 Importações e funções"
   ]
  },
  {
   "cell_type": "code",
   "execution_count": 4,
   "metadata": {},
   "outputs": [],
   "source": [
    "import  pandas  as  pd\n",
    "import  numpy   as  np"
   ]
  },
  {
   "cell_type": "markdown",
   "metadata": {},
   "source": [
    "- train.csv\n",
    "    - Dados para treino\n",
    "- test.csv\n",
    "    - Dados para test\n",
    "- sample_submission.csv\n",
    "    - Exemplo de envio\n",
    "- stores.csv\n",
    "    - Lojas\n",
    "- oil.csv\n",
    "    - Valor da gazolina\n",
    "- holidays_events.csv\n",
    "    - Feriados\n"
   ]
  },
  {
   "cell_type": "code",
   "execution_count": 7,
   "metadata": {},
   "outputs": [],
   "source": [
    "df_train                =   pd.read_csv('datasets/train.csv')\n",
    "df_test                 =   pd.read_csv('datasets/test.csv')\n",
    "df_sample_submission    =   pd.read_csv('datasets/sample_submission.csv')\n",
    "df_stores               =   pd.read_csv('datasets/stores.csv')\n",
    "df_oil                  =   pd.read_csv('datasets/oil.csv')\n",
    "df_holidays_events      =   pd.read_csv('datasets/holidays_events.csv')"
   ]
  },
  {
   "cell_type": "markdown",
   "metadata": {},
   "source": [
    "## 0.1 Entendimento do negocio\n"
   ]
  },
  {
   "cell_type": "markdown",
   "metadata": {},
   "source": [
    "### 1. Objetivo do projeto:\n",
    "    Construiremos um modelo que prevê com mais precisão as vendas unitárias de milhares de itens vendidos em diferentes lojas.\n",
    "\n",
    "### 2. Critérios de sucesso:\n",
    "    Caso bem-sucedido, teremos desenvolvido algumas novas habilidades em um exemplo do mundo real. Para supermercados, previsões mais precisas podem diminuir o desperdício de alimentos relacionado ao excesso de estoque e melhorar a satisfação do cliente\n",
    "\n",
    "    A métrica de avaliação para esta competição é Root Mean Squared Logarithmic Error.\n",
    "    O RMSLE é calculado como:\n",
    "<a href=\"https://www.kaggle.com/competitions/store-sales-time-series-forecasting/overview/evaluation\">Link do Calculo</a>\n",
    "\n",
    "### 3. Recursos e contingenciamentos:\n",
    "    Baixamos os arquivos CSV estão na pasta datasets\n",
    "\n",
    "### 4. Planejamento estrutural do projeto:\n",
    "    Começando: 12/04/2024 17:00\n",
    "    Previsão da primeira entrega: 15/04/2024 22:00\n",
    "\n",
    "    Desenvolvimento solo: Fernando Batista\n",
    "\n"
   ]
  },
  {
   "cell_type": "markdown",
   "metadata": {},
   "source": [
    "# 1.0 Entendimento dos dados"
   ]
  },
  {
   "cell_type": "code",
   "execution_count": null,
   "metadata": {},
   "outputs": [],
   "source": []
  },
  {
   "cell_type": "markdown",
   "metadata": {},
   "source": [
    "# 2.0"
   ]
  },
  {
   "cell_type": "markdown",
   "metadata": {},
   "source": [
    "# 3.0"
   ]
  },
  {
   "cell_type": "markdown",
   "metadata": {},
   "source": [
    "# 4.0"
   ]
  },
  {
   "cell_type": "markdown",
   "metadata": {},
   "source": [
    "# 5.0"
   ]
  },
  {
   "cell_type": "markdown",
   "metadata": {},
   "source": [
    "# 6.0"
   ]
  },
  {
   "cell_type": "markdown",
   "metadata": {},
   "source": [
    "# 7.0"
   ]
  },
  {
   "cell_type": "markdown",
   "metadata": {},
   "source": [
    "# 8.0"
   ]
  }
 ],
 "metadata": {
  "kernelspec": {
   "display_name": ".venv",
   "language": "python",
   "name": "python3"
  },
  "language_info": {
   "codemirror_mode": {
    "name": "ipython",
    "version": 3
   },
   "file_extension": ".py",
   "mimetype": "text/x-python",
   "name": "python",
   "nbconvert_exporter": "python",
   "pygments_lexer": "ipython3",
   "version": "3.11.9"
  }
 },
 "nbformat": 4,
 "nbformat_minor": 2
}
